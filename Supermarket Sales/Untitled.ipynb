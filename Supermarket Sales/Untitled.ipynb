{
 "cells": [
  {
   "cell_type": "code",
   "execution_count": 2,
   "id": "b59d60fe-c8ab-4f4d-ade2-7d2924a18f6d",
   "metadata": {},
   "outputs": [],
   "source": [
    "import pandas as pd\n",
    "import numpy as np\n",
    "import seaborn as sns\n",
    "import scipy.stats as stats"
   ]
  },
  {
   "cell_type": "code",
   "execution_count": 3,
   "id": "48907245-b024-4fc9-92f1-ccf5a1472bb6",
   "metadata": {},
   "outputs": [],
   "source": [
    "sales = pd.read_csv('supermarket_sales.csv')"
   ]
  },
  {
   "cell_type": "code",
   "execution_count": 4,
   "id": "430a0b57-2bff-4fd8-b36e-d3ed900b7c6c",
   "metadata": {},
   "outputs": [],
   "source": [
    "df = sales.copy()"
   ]
  },
  {
   "cell_type": "markdown",
   "id": "bbfe0971-0c64-4731-b66d-a28dea9f0329",
   "metadata": {},
   "source": [
    "# Veri Seti Hikayesi"
   ]
  },
  {
   "cell_type": "markdown",
   "id": "be7811c5-64c6-4baa-8108-2dc76e84a931",
   "metadata": {},
   "source": [
    "Invoice ID : Fatura numarası\n",
    "    \n",
    "Branch : Süpermarketin kategorisi (A > B > C)\n",
    "     \n",
    "City : Süpermarketin bulunduğu şehir (Yangon, Naypyitaw, Mandalay)\n",
    "    \n",
    "Customer type : Müşteri tipi (Normal, Üye)\n",
    "    \n",
    "Gender : Müşterinin cinsiyeti\n",
    "    \n",
    "Product line : Ürün kategorisi\n",
    "    \n",
    "Unit price : Her ürünün tanesi\n",
    "    \n",
    "Quantity : Alınan ürün sayısı\n",
    "    \n",
    "Tax 5% : %5 vergi \n",
    "    \n",
    "Total : Ürünlerin toplamı\n",
    "    \n",
    "Date : Ürünlerin alındığı tarih\n",
    "    \n",
    "Time : Ürünlerin alındığı saat\n",
    "    \n",
    "Payment : Ödeme şekli\n",
    "    \n",
    "cogs : Ürünlerin maliyeti\n",
    "    \n",
    "gross margin percentage : yüzdelik brüt kar marjı\n",
    "    \n",
    "gross income : brüt gelir\n",
    "    \n",
    "Rating : Müşterilerin 10 üzerinden verdiği alışveriş memnun kalma puanlandırması"
   ]
  },
  {
   "cell_type": "code",
   "execution_count": 5,
   "id": "140bf76c-f8df-46c6-8d85-916b2104afbe",
   "metadata": {},
   "outputs": [
    {
     "data": {
      "text/html": [
       "<div>\n",
       "<style scoped>\n",
       "    .dataframe tbody tr th:only-of-type {\n",
       "        vertical-align: middle;\n",
       "    }\n",
       "\n",
       "    .dataframe tbody tr th {\n",
       "        vertical-align: top;\n",
       "    }\n",
       "\n",
       "    .dataframe thead th {\n",
       "        text-align: right;\n",
       "    }\n",
       "</style>\n",
       "<table border=\"1\" class=\"dataframe\">\n",
       "  <thead>\n",
       "    <tr style=\"text-align: right;\">\n",
       "      <th></th>\n",
       "      <th>Invoice ID</th>\n",
       "      <th>Branch</th>\n",
       "      <th>City</th>\n",
       "      <th>Customer type</th>\n",
       "      <th>Gender</th>\n",
       "      <th>Product line</th>\n",
       "      <th>Unit price</th>\n",
       "      <th>Quantity</th>\n",
       "      <th>Tax 5%</th>\n",
       "      <th>Total</th>\n",
       "      <th>Date</th>\n",
       "      <th>Time</th>\n",
       "      <th>Payment</th>\n",
       "      <th>cogs</th>\n",
       "      <th>gross margin percentage</th>\n",
       "      <th>gross income</th>\n",
       "      <th>Rating</th>\n",
       "    </tr>\n",
       "  </thead>\n",
       "  <tbody>\n",
       "    <tr>\n",
       "      <th>0</th>\n",
       "      <td>750-67-8428</td>\n",
       "      <td>A</td>\n",
       "      <td>Yangon</td>\n",
       "      <td>Member</td>\n",
       "      <td>Female</td>\n",
       "      <td>Health and beauty</td>\n",
       "      <td>74.69</td>\n",
       "      <td>7</td>\n",
       "      <td>26.1415</td>\n",
       "      <td>548.9715</td>\n",
       "      <td>1/5/2019</td>\n",
       "      <td>13:08</td>\n",
       "      <td>Ewallet</td>\n",
       "      <td>522.83</td>\n",
       "      <td>4.761905</td>\n",
       "      <td>26.1415</td>\n",
       "      <td>9.1</td>\n",
       "    </tr>\n",
       "    <tr>\n",
       "      <th>1</th>\n",
       "      <td>226-31-3081</td>\n",
       "      <td>C</td>\n",
       "      <td>Naypyitaw</td>\n",
       "      <td>Normal</td>\n",
       "      <td>Female</td>\n",
       "      <td>Electronic accessories</td>\n",
       "      <td>15.28</td>\n",
       "      <td>5</td>\n",
       "      <td>3.8200</td>\n",
       "      <td>80.2200</td>\n",
       "      <td>3/8/2019</td>\n",
       "      <td>10:29</td>\n",
       "      <td>Cash</td>\n",
       "      <td>76.40</td>\n",
       "      <td>4.761905</td>\n",
       "      <td>3.8200</td>\n",
       "      <td>9.6</td>\n",
       "    </tr>\n",
       "    <tr>\n",
       "      <th>2</th>\n",
       "      <td>631-41-3108</td>\n",
       "      <td>A</td>\n",
       "      <td>Yangon</td>\n",
       "      <td>Normal</td>\n",
       "      <td>Male</td>\n",
       "      <td>Home and lifestyle</td>\n",
       "      <td>46.33</td>\n",
       "      <td>7</td>\n",
       "      <td>16.2155</td>\n",
       "      <td>340.5255</td>\n",
       "      <td>3/3/2019</td>\n",
       "      <td>13:23</td>\n",
       "      <td>Credit card</td>\n",
       "      <td>324.31</td>\n",
       "      <td>4.761905</td>\n",
       "      <td>16.2155</td>\n",
       "      <td>7.4</td>\n",
       "    </tr>\n",
       "    <tr>\n",
       "      <th>3</th>\n",
       "      <td>123-19-1176</td>\n",
       "      <td>A</td>\n",
       "      <td>Yangon</td>\n",
       "      <td>Member</td>\n",
       "      <td>Male</td>\n",
       "      <td>Health and beauty</td>\n",
       "      <td>58.22</td>\n",
       "      <td>8</td>\n",
       "      <td>23.2880</td>\n",
       "      <td>489.0480</td>\n",
       "      <td>1/27/2019</td>\n",
       "      <td>20:33</td>\n",
       "      <td>Ewallet</td>\n",
       "      <td>465.76</td>\n",
       "      <td>4.761905</td>\n",
       "      <td>23.2880</td>\n",
       "      <td>8.4</td>\n",
       "    </tr>\n",
       "    <tr>\n",
       "      <th>4</th>\n",
       "      <td>373-73-7910</td>\n",
       "      <td>A</td>\n",
       "      <td>Yangon</td>\n",
       "      <td>Normal</td>\n",
       "      <td>Male</td>\n",
       "      <td>Sports and travel</td>\n",
       "      <td>86.31</td>\n",
       "      <td>7</td>\n",
       "      <td>30.2085</td>\n",
       "      <td>634.3785</td>\n",
       "      <td>2/8/2019</td>\n",
       "      <td>10:37</td>\n",
       "      <td>Ewallet</td>\n",
       "      <td>604.17</td>\n",
       "      <td>4.761905</td>\n",
       "      <td>30.2085</td>\n",
       "      <td>5.3</td>\n",
       "    </tr>\n",
       "  </tbody>\n",
       "</table>\n",
       "</div>"
      ],
      "text/plain": [
       "    Invoice ID Branch       City Customer type  Gender  \\\n",
       "0  750-67-8428      A     Yangon        Member  Female   \n",
       "1  226-31-3081      C  Naypyitaw        Normal  Female   \n",
       "2  631-41-3108      A     Yangon        Normal    Male   \n",
       "3  123-19-1176      A     Yangon        Member    Male   \n",
       "4  373-73-7910      A     Yangon        Normal    Male   \n",
       "\n",
       "             Product line  Unit price  Quantity   Tax 5%     Total       Date  \\\n",
       "0       Health and beauty       74.69         7  26.1415  548.9715   1/5/2019   \n",
       "1  Electronic accessories       15.28         5   3.8200   80.2200   3/8/2019   \n",
       "2      Home and lifestyle       46.33         7  16.2155  340.5255   3/3/2019   \n",
       "3       Health and beauty       58.22         8  23.2880  489.0480  1/27/2019   \n",
       "4       Sports and travel       86.31         7  30.2085  634.3785   2/8/2019   \n",
       "\n",
       "    Time      Payment    cogs  gross margin percentage  gross income  Rating  \n",
       "0  13:08      Ewallet  522.83                 4.761905       26.1415     9.1  \n",
       "1  10:29         Cash   76.40                 4.761905        3.8200     9.6  \n",
       "2  13:23  Credit card  324.31                 4.761905       16.2155     7.4  \n",
       "3  20:33      Ewallet  465.76                 4.761905       23.2880     8.4  \n",
       "4  10:37      Ewallet  604.17                 4.761905       30.2085     5.3  "
      ]
     },
     "execution_count": 5,
     "metadata": {},
     "output_type": "execute_result"
    }
   ],
   "source": [
    "df.head()"
   ]
  },
  {
   "cell_type": "code",
   "execution_count": 6,
   "id": "45feda04-bbb9-4cea-8162-72f08a067288",
   "metadata": {},
   "outputs": [
    {
     "name": "stdout",
     "output_type": "stream",
     "text": [
      "<class 'pandas.core.frame.DataFrame'>\n",
      "RangeIndex: 1000 entries, 0 to 999\n",
      "Data columns (total 17 columns):\n",
      " #   Column                   Non-Null Count  Dtype  \n",
      "---  ------                   --------------  -----  \n",
      " 0   Invoice ID               1000 non-null   object \n",
      " 1   Branch                   1000 non-null   object \n",
      " 2   City                     1000 non-null   object \n",
      " 3   Customer type            1000 non-null   object \n",
      " 4   Gender                   1000 non-null   object \n",
      " 5   Product line             1000 non-null   object \n",
      " 6   Unit price               1000 non-null   float64\n",
      " 7   Quantity                 1000 non-null   int64  \n",
      " 8   Tax 5%                   1000 non-null   float64\n",
      " 9   Total                    1000 non-null   float64\n",
      " 10  Date                     1000 non-null   object \n",
      " 11  Time                     1000 non-null   object \n",
      " 12  Payment                  1000 non-null   object \n",
      " 13  cogs                     1000 non-null   float64\n",
      " 14  gross margin percentage  1000 non-null   float64\n",
      " 15  gross income             1000 non-null   float64\n",
      " 16  Rating                   1000 non-null   float64\n",
      "dtypes: float64(7), int64(1), object(9)\n",
      "memory usage: 132.9+ KB\n"
     ]
    }
   ],
   "source": [
    "df.info()"
   ]
  },
  {
   "cell_type": "markdown",
   "id": "8a58f86e-3558-4a98-ab94-bd940b8a956a",
   "metadata": {},
   "source": [
    "**Hiç eksik veri olmadığından dolayı görselleştirme yapılabilir.**"
   ]
  },
  {
   "cell_type": "markdown",
   "id": "deda1746-29f4-4283-aac7-b9eccd60da69",
   "metadata": {},
   "source": [
    "## Görselleştirme ve Hipotez Testleri"
   ]
  },
  {
   "cell_type": "markdown",
   "id": "c6fcbdaf-d75a-45e6-9f43-616473c58d08",
   "metadata": {},
   "source": [
    "### Hangi ürün kategorisinden daha çok alışveriş yapılıyor ?"
   ]
  },
  {
   "cell_type": "code",
   "execution_count": 7,
   "id": "0f503b10-f7da-4b41-b7fa-aae8e9ae9187",
   "metadata": {},
   "outputs": [],
   "source": [
    "import seaborn as sns"
   ]
  },
  {
   "cell_type": "code",
   "execution_count": 8,
   "id": "3dae4b27-8f20-477b-9dbe-5d683c9f0253",
   "metadata": {},
   "outputs": [],
   "source": [
    "from pandas.api.types import CategoricalDtype"
   ]
  },
  {
   "cell_type": "code",
   "execution_count": 9,
   "id": "f4436d87-2426-4b96-a60a-7f7ec2a84809",
   "metadata": {},
   "outputs": [],
   "source": [
    "df['Branch'] = df.Branch.astype(CategoricalDtype(categories = ['C', 'B', 'A'], ordered = True))"
   ]
  },
  {
   "cell_type": "code",
   "execution_count": 10,
   "id": "a0ed4ebd-e1e4-448a-868e-4896402fd7a4",
   "metadata": {},
   "outputs": [
    {
     "data": {
      "text/plain": [
       "array(['Yangon', 'Naypyitaw', 'Mandalay'], dtype=object)"
      ]
     },
     "execution_count": 10,
     "metadata": {},
     "output_type": "execute_result"
    }
   ],
   "source": [
    "df['City'].unique()"
   ]
  },
  {
   "cell_type": "code",
   "execution_count": 11,
   "id": "c590d148-e886-4a40-a670-9c1f4e8f15a8",
   "metadata": {},
   "outputs": [
    {
     "data": {
      "image/png": "[encoded data removed]",
      "text/plain": [
       "<Figure size 640x480 with 1 Axes>"
      ]
     },
     "metadata": {},
     "output_type": "display_data"
    }
   ],
   "source": [
    "sns.barplot(y = 'Product line',x = 'Total', data = df);"
   ]
  },
  {
   "cell_type": "code",
   "execution_count": 12,
   "id": "bbfcf655-24be-4c44-8fa3-c9451234e1df",
   "metadata": {},
   "outputs": [],
   "source": [
    "ddf = df[['Product line', 'Total']].copy()"
   ]
  },
  {
   "cell_type": "code",
   "execution_count": 13,
   "id": "bff762ef-8ef7-4e68-abd3-b45fc2e19c2b",
   "metadata": {},
   "outputs": [
    {
     "data": {
      "text/html": [
       "<div>\n",
       "<style scoped>\n",
       "    .dataframe tbody tr th:only-of-type {\n",
       "        vertical-align: middle;\n",
       "    }\n",
       "\n",
       "    .dataframe tbody tr th {\n",
       "        vertical-align: top;\n",
       "    }\n",
       "\n",
       "    .dataframe thead th {\n",
       "        text-align: right;\n",
       "    }\n",
       "</style>\n",
       "<table border=\"1\" class=\"dataframe\">\n",
       "  <thead>\n",
       "    <tr style=\"text-align: right;\">\n",
       "      <th></th>\n",
       "      <th>Product line</th>\n",
       "      <th>Total</th>\n",
       "    </tr>\n",
       "  </thead>\n",
       "  <tbody>\n",
       "    <tr>\n",
       "      <th>0</th>\n",
       "      <td>Health and beauty</td>\n",
       "      <td>548.9715</td>\n",
       "    </tr>\n",
       "    <tr>\n",
       "      <th>1</th>\n",
       "      <td>Electronic accessories</td>\n",
       "      <td>80.2200</td>\n",
       "    </tr>\n",
       "    <tr>\n",
       "      <th>2</th>\n",
       "      <td>Home and lifestyle</td>\n",
       "      <td>340.5255</td>\n",
       "    </tr>\n",
       "    <tr>\n",
       "      <th>3</th>\n",
       "      <td>Health and beauty</td>\n",
       "      <td>489.0480</td>\n",
       "    </tr>\n",
       "    <tr>\n",
       "      <th>4</th>\n",
       "      <td>Sports and travel</td>\n",
       "      <td>634.3785</td>\n",
       "    </tr>\n",
       "    <tr>\n",
       "      <th>...</th>\n",
       "      <td>...</td>\n",
       "      <td>...</td>\n",
       "    </tr>\n",
       "    <tr>\n",
       "      <th>995</th>\n",
       "      <td>Health and beauty</td>\n",
       "      <td>42.3675</td>\n",
       "    </tr>\n",
       "    <tr>\n",
       "      <th>996</th>\n",
       "      <td>Home and lifestyle</td>\n",
       "      <td>1022.4900</td>\n",
       "    </tr>\n",
       "    <tr>\n",
       "      <th>997</th>\n",
       "      <td>Food and beverages</td>\n",
       "      <td>33.4320</td>\n",
       "    </tr>\n",
       "    <tr>\n",
       "      <th>998</th>\n",
       "      <td>Home and lifestyle</td>\n",
       "      <td>69.1110</td>\n",
       "    </tr>\n",
       "    <tr>\n",
       "      <th>999</th>\n",
       "      <td>Fashion accessories</td>\n",
       "      <td>649.2990</td>\n",
       "    </tr>\n",
       "  </tbody>\n",
       "</table>\n",
       "<p>1000 rows × 2 columns</p>\n",
       "</div>"
      ],
      "text/plain": [
       "               Product line      Total\n",
       "0         Health and beauty   548.9715\n",
       "1    Electronic accessories    80.2200\n",
       "2        Home and lifestyle   340.5255\n",
       "3         Health and beauty   489.0480\n",
       "4         Sports and travel   634.3785\n",
       "..                      ...        ...\n",
       "995       Health and beauty    42.3675\n",
       "996      Home and lifestyle  1022.4900\n",
       "997      Food and beverages    33.4320\n",
       "998      Home and lifestyle    69.1110\n",
       "999     Fashion accessories   649.2990\n",
       "\n",
       "[1000 rows x 2 columns]"
      ]
     },
     "execution_count": 13,
     "metadata": {},
     "output_type": "execute_result"
    }
   ],
   "source": [
    "ddf"
   ]
  },
  {
   "cell_type": "code",
   "execution_count": 14,
   "id": "f24ecb99-b409-4229-a9c0-4c7027d7c6cf",
   "metadata": {},
   "outputs": [
    {
     "name": "stdout",
     "output_type": "stream",
     "text": [
      "Because of one or more variable is not normal and homogenize. We will use non-parametric test which is name Mann Whitney U test.\n",
      "For Health and beauty and Electronic accessories, H0 can acceptable\n",
      "For Health and beauty and Home and lifestyle, H0 can acceptable\n",
      "For Health and beauty and Sports and travel, H0 can acceptable\n",
      "For Health and beauty and Food and beverages, H0 can acceptable\n",
      "For Health and beauty and Fashion accessories, H0 can acceptable\n",
      "For Electronic accessories and Health and beauty, H0 can acceptable\n",
      "For Electronic accessories and Home and lifestyle, H0 can acceptable\n",
      "For Electronic accessories and Sports and travel, H0 can acceptable\n",
      "For Electronic accessories and Food and beverages, H0 can acceptable\n",
      "For Electronic accessories and Fashion accessories, H0 can acceptable\n",
      "For Home and lifestyle and Health and beauty, H0 can acceptable\n",
      "For Home and lifestyle and Electronic accessories, H0 can acceptable\n",
      "For Home and lifestyle and Sports and travel, H0 can acceptable\n",
      "For Home and lifestyle and Food and beverages, H0 can acceptable\n",
      "For Home and lifestyle and Fashion accessories, H0 can acceptable\n",
      "For Sports and travel and Health and beauty, H0 can acceptable\n",
      "For Sports and travel and Electronic accessories, H0 can acceptable\n",
      "For Sports and travel and Home and lifestyle, H0 can acceptable\n",
      "For Sports and travel and Food and beverages, H0 can acceptable\n",
      "For Sports and travel and Fashion accessories, H0 can acceptable\n",
      "For Food and beverages and Health and beauty, H0 can acceptable\n",
      "For Food and beverages and Electronic accessories, H0 can acceptable\n",
      "For Food and beverages and Home and lifestyle, H0 can acceptable\n",
      "For Food and beverages and Sports and travel, H0 can acceptable\n",
      "For Food and beverages and Fashion accessories, H0 can acceptable\n",
      "For Fashion accessories and Health and beauty, H0 can acceptable\n",
      "For Fashion accessories and Electronic accessories, H0 can acceptable\n",
      "For Fashion accessories and Home and lifestyle, H0 can acceptable\n",
      "For Fashion accessories and Sports and travel, H0 can acceptable\n",
      "For Fashion accessories and Food and beverages, H0 can acceptable\n"
     ]
    }
   ],
   "source": [
    "a = df['Product line'].unique().tolist()\n",
    "isnormal = 0\n",
    "for i in a: \n",
    "    ttest, pvalue = stats.shapiro(ddf[ddf['Product line'] == i]['Total'].values)\n",
    "    if pvalue > 0.05:\n",
    "        isnormal += 1\n",
    "\n",
    "\n",
    "ishomogen = 0\n",
    "for i in a:\n",
    "    for b in a:\n",
    "        if i == b:\n",
    "            continue\n",
    "        else:\n",
    "            test, pvalue = stats.levene(ddf[ddf['Product line'] == i]['Total'].values, ddf[ddf['Product line'] == b]['Total'].values)\n",
    "        if pvalue > 0.05:\n",
    "            ishomogen += 1\n",
    "\n",
    "if isnormal == len(a) and ishomogen == 30:\n",
    "    print(f'All variables are normal and homogenize. We can use parametric test.')\n",
    "    for i in a:\n",
    "        for b in a:\n",
    "            if i == b:\n",
    "                continue\n",
    "            else:\n",
    "                test, pvalue = stats.ttest_ind(ddf[ddf['Product line'] == i]['Total'].values, ddf[ddf['Product line'] == b]['Total'].values)\n",
    "            if pvalue > 0.05:\n",
    "                print(f'For{i} and {b}, H0 can acceptable ')\n",
    "            else:\n",
    "                 print(f'For{i} and {b}, H1 can acceptable ')\n",
    "    \n",
    "else:\n",
    "    print(f'Because of one or more variable is not normal and homogenize. We will use non-parametric test which is name Mann Whitney U test.')\n",
    "    for i in a:\n",
    "        for b in a:\n",
    "            if i == b:\n",
    "                continue\n",
    "            else:\n",
    "                test, pvalue = stats.mannwhitneyu(ddf[ddf['Product line'] == i]['Total'].values, ddf[ddf['Product line'] == b]['Total'].values)\n",
    "            if pvalue > 0.05:\n",
    "                print(f'For {i} and {b}, H0 can acceptable')\n",
    "            else:\n",
    "                print(f'For {i} and {b}, H1 can acceptable')"
   ]
  },
  {
   "cell_type": "markdown",
   "id": "b2afff49-8ae7-4599-ab63-49b18ede8f3a",
   "metadata": {},
   "source": [
    "**Bu ortalamalar şansa bağlı ortaya çıkmıştır. Tüm ürün kategorilerinin satış geliri arasında bir fark yoktur.**"
   ]
  },
  {
   "cell_type": "markdown",
   "id": "73de55c7-a810-420c-aa4c-f4bdb44d34ce",
   "metadata": {},
   "source": [
    "### Üye olanlar mı yoksa normal müşteriler mi daha fazla alışveriş yapıyor?"
   ]
  },
  {
   "cell_type": "code",
   "execution_count": 15,
   "id": "00653fea-c789-419a-a4bd-031baa60ae8d",
   "metadata": {},
   "outputs": [
    {
     "data": {
      "image/png": "[encoded data removed]",
      "text/plain": [
       "<Figure size 640x480 with 1 Axes>"
      ]
     },
     "metadata": {},
     "output_type": "display_data"
    }
   ],
   "source": [
    "sns.barplot(x = 'Customer type', y = 'Total', data = df);"
   ]
  },
  {
   "cell_type": "code",
   "execution_count": 16,
   "id": "4010678e-7f92-4e28-92e6-2977cc806130",
   "metadata": {},
   "outputs": [
    {
     "data": {
      "image/png": "[encoded data removed]",
      "text/plain": [
       "<Figure size 640x480 with 1 Axes>"
      ]
     },
     "metadata": {},
     "output_type": "display_data"
    }
   ],
   "source": [
    "sns.countplot(x = 'Customer type', data = df);"
   ]
  },
  {
   "cell_type": "code",
   "execution_count": 17,
   "id": "34ae9bb5-fe8c-43be-ac77-afe67ee09a86",
   "metadata": {},
   "outputs": [
    {
     "data": {
      "text/plain": [
       "Member    501\n",
       "Normal    499\n",
       "Name: Customer type, dtype: int64"
      ]
     },
     "execution_count": 17,
     "metadata": {},
     "output_type": "execute_result"
    }
   ],
   "source": [
    "df['Customer type'].value_counts()"
   ]
  },
  {
   "cell_type": "code",
   "execution_count": 18,
   "id": "9ef18725-123b-42d0-b7b9-b936e0eb166f",
   "metadata": {},
   "outputs": [
    {
     "data": {
      "text/plain": [
       "False"
      ]
     },
     "execution_count": 18,
     "metadata": {},
     "output_type": "execute_result"
    }
   ],
   "source": [
    "ttest, pvalue = stats.shapiro(df[df['Customer type'] == 'Member']['Total'])\n",
    "pvalue > 0.05"
   ]
  },
  {
   "cell_type": "code",
   "execution_count": 19,
   "id": "34956f84-f659-4430-87e9-44080a77ab67",
   "metadata": {},
   "outputs": [
    {
     "data": {
      "text/plain": [
       "True"
      ]
     },
     "execution_count": 19,
     "metadata": {},
     "output_type": "execute_result"
    }
   ],
   "source": [
    "ttest, pvalue = stats.mannwhitneyu(df[df['Customer type'] == 'Member']['Total'], df[df['Customer type'] == 'Normal']['Total'])\n",
    "pvalue > 0.05"
   ]
  },
  {
   "cell_type": "markdown",
   "id": "3a544297-c368-42de-9bfc-daeac947eea6",
   "metadata": {},
   "source": [
    "**Normal ve Member müşterilerinde aynı sayıda satış geliri elde edilmektedir**"
   ]
  },
  {
   "cell_type": "markdown",
   "id": "9179c8d5-cc86-419d-95a5-fffb3737633f",
   "metadata": {},
   "source": [
    "Görselden üye olanlar ve normal müşteriler toplamda aynı sayıda veya çok yakın sayıda alışveriş yapmaktadır. Lakin, üye olanlar daha fazla para harcamaktadır."
   ]
  },
  {
   "cell_type": "markdown",
   "id": "a5f969dc-1faf-4e41-9afe-7b1d440fd6e1",
   "metadata": {},
   "source": [
    "### Hangi günler daha fazla alışveriş yapılıyor?"
   ]
  },
  {
   "cell_type": "code",
   "execution_count": 20,
   "id": "b89e8f3e-7f9a-46c6-8e25-ce52a1b4993e",
   "metadata": {},
   "outputs": [
    {
     "data": {
      "text/plain": [
       "0       1/5/2019\n",
       "1       3/8/2019\n",
       "2       3/3/2019\n",
       "3      1/27/2019\n",
       "4       2/8/2019\n",
       "         ...    \n",
       "995    1/29/2019\n",
       "996     3/2/2019\n",
       "997     2/9/2019\n",
       "998    2/22/2019\n",
       "999    2/18/2019\n",
       "Name: Date, Length: 1000, dtype: object"
      ]
     },
     "execution_count": 20,
     "metadata": {},
     "output_type": "execute_result"
    }
   ],
   "source": [
    "df['Date']"
   ]
  },
  {
   "cell_type": "code",
   "execution_count": 21,
   "id": "9fc0cdba-3dcd-4eaf-a191-98f1f013ed42",
   "metadata": {},
   "outputs": [],
   "source": [
    "df.Date = pd.to_datetime(df.Date)"
   ]
  },
  {
   "cell_type": "code",
   "execution_count": 22,
   "id": "693ca06f-5b9e-42a5-aa35-915924ba10fb",
   "metadata": {},
   "outputs": [
    {
     "data": {
      "text/plain": [
       "0     2019-01-05\n",
       "1     2019-03-08\n",
       "2     2019-03-03\n",
       "3     2019-01-27\n",
       "4     2019-02-08\n",
       "         ...    \n",
       "995   2019-01-29\n",
       "996   2019-03-02\n",
       "997   2019-02-09\n",
       "998   2019-02-22\n",
       "999   2019-02-18\n",
       "Name: Date, Length: 1000, dtype: datetime64[ns]"
      ]
     },
     "execution_count": 22,
     "metadata": {},
     "output_type": "execute_result"
    }
   ],
   "source": [
    "df['Date']"
   ]
  },
  {
   "cell_type": "code",
   "execution_count": 23,
   "id": "177bcec9-510d-4263-8c57-36b46535b24f",
   "metadata": {},
   "outputs": [
    {
     "data": {
      "text/plain": [
       "Timestamp('2019-03-30 00:00:00')"
      ]
     },
     "execution_count": 23,
     "metadata": {},
     "output_type": "execute_result"
    }
   ],
   "source": [
    "df['Date'].max()"
   ]
  },
  {
   "cell_type": "code",
   "execution_count": 24,
   "id": "5ba7b0cc-cd4a-4a80-b667-7ffbb8c62fa1",
   "metadata": {},
   "outputs": [],
   "source": [
    "import datetime"
   ]
  },
  {
   "cell_type": "code",
   "execution_count": 25,
   "id": "77adb666-dff9-463b-84a2-8d1a8e440020",
   "metadata": {},
   "outputs": [],
   "source": [
    "def day(x):\n",
    "    day_name = ['Monday', 'Tuesday', 'Wednesday', 'Thursday', 'Friday', 'Saturday', 'Sunday']\n",
    "    day = datetime.datetime.strptime(x, '%m/%d/%Y').weekday()\n",
    "    \n",
    "    return day_name[day]"
   ]
  },
  {
   "cell_type": "code",
   "execution_count": 26,
   "id": "db15d80e-ddb0-458c-a0ba-bf560a220886",
   "metadata": {},
   "outputs": [
    {
     "ename": "TypeError",
     "evalue": "strptime() argument 1 must be str, not Timestamp",
     "output_type": "error",
     "traceback": [
      "\u001b[1;31m---------------------------------------------------------------------------\u001b[0m",
      "\u001b[1;31mTypeError\u001b[0m                                 Traceback (most recent call last)",
      "Cell \u001b[1;32mIn[26], line 1\u001b[0m\n\u001b[1;32m----> 1\u001b[0m df[\u001b[38;5;124m'\u001b[39m\u001b[38;5;124mDay\u001b[39m\u001b[38;5;124m'\u001b[39m] \u001b[38;5;241m=\u001b[39m \u001b[43mdf\u001b[49m\u001b[43m[\u001b[49m\u001b[38;5;124;43m'\u001b[39;49m\u001b[38;5;124;43mDate\u001b[39;49m\u001b[38;5;124;43m'\u001b[39;49m\u001b[43m]\u001b[49m\u001b[38;5;241;43m.\u001b[39;49m\u001b[43mapply\u001b[49m\u001b[43m(\u001b[49m\u001b[43mday\u001b[49m\u001b[43m)\u001b[49m\n",
      "File \u001b[1;32m~\\anaconda3\\lib\\site-packages\\pandas\\core\\series.py:4771\u001b[0m, in \u001b[0;36mSeries.apply\u001b[1;34m(self, func, convert_dtype, args, **kwargs)\u001b[0m\n\u001b[0;32m   4661\u001b[0m \u001b[38;5;28;01mdef\u001b[39;00m \u001b[38;5;21mapply\u001b[39m(\n\u001b[0;32m   4662\u001b[0m     \u001b[38;5;28mself\u001b[39m,\n\u001b[0;32m   4663\u001b[0m     func: AggFuncType,\n\u001b[1;32m   (...)\u001b[0m\n\u001b[0;32m   4666\u001b[0m     \u001b[38;5;241m*\u001b[39m\u001b[38;5;241m*\u001b[39mkwargs,\n\u001b[0;32m   4667\u001b[0m ) \u001b[38;5;241m-\u001b[39m\u001b[38;5;241m>\u001b[39m DataFrame \u001b[38;5;241m|\u001b[39m Series:\n\u001b[0;32m   4668\u001b[0m \u001b[38;5;250m    \u001b[39m\u001b[38;5;124;03m\"\"\"\u001b[39;00m\n\u001b[0;32m   4669\u001b[0m \u001b[38;5;124;03m    Invoke function on values of Series.\u001b[39;00m\n\u001b[0;32m   4670\u001b[0m \n\u001b[1;32m   (...)\u001b[0m\n\u001b[0;32m   4769\u001b[0m \u001b[38;5;124;03m    dtype: float64\u001b[39;00m\n\u001b[0;32m   4770\u001b[0m \u001b[38;5;124;03m    \"\"\"\u001b[39;00m\n\u001b[1;32m-> 4771\u001b[0m     \u001b[38;5;28;01mreturn\u001b[39;00m \u001b[43mSeriesApply\u001b[49m\u001b[43m(\u001b[49m\u001b[38;5;28;43mself\u001b[39;49m\u001b[43m,\u001b[49m\u001b[43m \u001b[49m\u001b[43mfunc\u001b[49m\u001b[43m,\u001b[49m\u001b[43m \u001b[49m\u001b[43mconvert_dtype\u001b[49m\u001b[43m,\u001b[49m\u001b[43m \u001b[49m\u001b[43margs\u001b[49m\u001b[43m,\u001b[49m\u001b[43m \u001b[49m\u001b[43mkwargs\u001b[49m\u001b[43m)\u001b[49m\u001b[38;5;241;43m.\u001b[39;49m\u001b[43mapply\u001b[49m\u001b[43m(\u001b[49m\u001b[43m)\u001b[49m\n",
      "File \u001b[1;32m~\\anaconda3\\lib\\site-packages\\pandas\\core\\apply.py:1123\u001b[0m, in \u001b[0;36mSeriesApply.apply\u001b[1;34m(self)\u001b[0m\n\u001b[0;32m   1120\u001b[0m     \u001b[38;5;28;01mreturn\u001b[39;00m \u001b[38;5;28mself\u001b[39m\u001b[38;5;241m.\u001b[39mapply_str()\n\u001b[0;32m   1122\u001b[0m \u001b[38;5;66;03m# self.f is Callable\u001b[39;00m\n\u001b[1;32m-> 1123\u001b[0m \u001b[38;5;28;01mreturn\u001b[39;00m \u001b[38;5;28;43mself\u001b[39;49m\u001b[38;5;241;43m.\u001b[39;49m\u001b[43mapply_standard\u001b[49m\u001b[43m(\u001b[49m\u001b[43m)\u001b[49m\n",
      "File \u001b[1;32m~\\anaconda3\\lib\\site-packages\\pandas\\core\\apply.py:1174\u001b[0m, in \u001b[0;36mSeriesApply.apply_standard\u001b[1;34m(self)\u001b[0m\n\u001b[0;32m   1172\u001b[0m     \u001b[38;5;28;01melse\u001b[39;00m:\n\u001b[0;32m   1173\u001b[0m         values \u001b[38;5;241m=\u001b[39m obj\u001b[38;5;241m.\u001b[39mastype(\u001b[38;5;28mobject\u001b[39m)\u001b[38;5;241m.\u001b[39m_values\n\u001b[1;32m-> 1174\u001b[0m         mapped \u001b[38;5;241m=\u001b[39m \u001b[43mlib\u001b[49m\u001b[38;5;241;43m.\u001b[39;49m\u001b[43mmap_infer\u001b[49m\u001b[43m(\u001b[49m\n\u001b[0;32m   1175\u001b[0m \u001b[43m            \u001b[49m\u001b[43mvalues\u001b[49m\u001b[43m,\u001b[49m\n\u001b[0;32m   1176\u001b[0m \u001b[43m            \u001b[49m\u001b[43mf\u001b[49m\u001b[43m,\u001b[49m\n\u001b[0;32m   1177\u001b[0m \u001b[43m            \u001b[49m\u001b[43mconvert\u001b[49m\u001b[38;5;241;43m=\u001b[39;49m\u001b[38;5;28;43mself\u001b[39;49m\u001b[38;5;241;43m.\u001b[39;49m\u001b[43mconvert_dtype\u001b[49m\u001b[43m,\u001b[49m\n\u001b[0;32m   1178\u001b[0m \u001b[43m        \u001b[49m\u001b[43m)\u001b[49m\n\u001b[0;32m   1180\u001b[0m \u001b[38;5;28;01mif\u001b[39;00m \u001b[38;5;28mlen\u001b[39m(mapped) \u001b[38;5;129;01mand\u001b[39;00m \u001b[38;5;28misinstance\u001b[39m(mapped[\u001b[38;5;241m0\u001b[39m], ABCSeries):\n\u001b[0;32m   1181\u001b[0m     \u001b[38;5;66;03m# GH#43986 Need to do list(mapped) in order to get treated as nested\u001b[39;00m\n\u001b[0;32m   1182\u001b[0m     \u001b[38;5;66;03m#  See also GH#25959 regarding EA support\u001b[39;00m\n\u001b[0;32m   1183\u001b[0m     \u001b[38;5;28;01mreturn\u001b[39;00m obj\u001b[38;5;241m.\u001b[39m_constructor_expanddim(\u001b[38;5;28mlist\u001b[39m(mapped), index\u001b[38;5;241m=\u001b[39mobj\u001b[38;5;241m.\u001b[39mindex)\n",
      "File \u001b[1;32m~\\anaconda3\\lib\\site-packages\\pandas\\_libs\\lib.pyx:2924\u001b[0m, in \u001b[0;36mpandas._libs.lib.map_infer\u001b[1;34m()\u001b[0m\n",
      "Cell \u001b[1;32mIn[25], line 3\u001b[0m, in \u001b[0;36mday\u001b[1;34m(x)\u001b[0m\n\u001b[0;32m      1\u001b[0m \u001b[38;5;28;01mdef\u001b[39;00m \u001b[38;5;21mday\u001b[39m(x):\n\u001b[0;32m      2\u001b[0m     day_name \u001b[38;5;241m=\u001b[39m [\u001b[38;5;124m'\u001b[39m\u001b[38;5;124mMonday\u001b[39m\u001b[38;5;124m'\u001b[39m, \u001b[38;5;124m'\u001b[39m\u001b[38;5;124mTuesday\u001b[39m\u001b[38;5;124m'\u001b[39m, \u001b[38;5;124m'\u001b[39m\u001b[38;5;124mWednesday\u001b[39m\u001b[38;5;124m'\u001b[39m, \u001b[38;5;124m'\u001b[39m\u001b[38;5;124mThursday\u001b[39m\u001b[38;5;124m'\u001b[39m, \u001b[38;5;124m'\u001b[39m\u001b[38;5;124mFriday\u001b[39m\u001b[38;5;124m'\u001b[39m, \u001b[38;5;124m'\u001b[39m\u001b[38;5;124mSaturday\u001b[39m\u001b[38;5;124m'\u001b[39m, \u001b[38;5;124m'\u001b[39m\u001b[38;5;124mSunday\u001b[39m\u001b[38;5;124m'\u001b[39m]\n\u001b[1;32m----> 3\u001b[0m     day \u001b[38;5;241m=\u001b[39m \u001b[43mdatetime\u001b[49m\u001b[38;5;241;43m.\u001b[39;49m\u001b[43mdatetime\u001b[49m\u001b[38;5;241;43m.\u001b[39;49m\u001b[43mstrptime\u001b[49m\u001b[43m(\u001b[49m\u001b[43mx\u001b[49m\u001b[43m,\u001b[49m\u001b[43m \u001b[49m\u001b[38;5;124;43m'\u001b[39;49m\u001b[38;5;124;43m%\u001b[39;49m\u001b[38;5;124;43mm/\u001b[39;49m\u001b[38;5;132;43;01m%d\u001b[39;49;00m\u001b[38;5;124;43m/\u001b[39;49m\u001b[38;5;124;43m%\u001b[39;49m\u001b[38;5;124;43mY\u001b[39;49m\u001b[38;5;124;43m'\u001b[39;49m\u001b[43m)\u001b[49m\u001b[38;5;241m.\u001b[39mweekday()\n\u001b[0;32m      5\u001b[0m     \u001b[38;5;28;01mreturn\u001b[39;00m day_name[day]\n",
      "\u001b[1;31mTypeError\u001b[0m: strptime() argument 1 must be str, not Timestamp"
     ]
    }
   ],
   "source": [
    "df['Day'] = df['Date'].apply(day)"
   ]
  },
  {
   "cell_type": "code",
   "execution_count": null,
   "id": "be79a399-cf15-45ef-b20f-26a40736d6b6",
   "metadata": {},
   "outputs": [],
   "source": [
    "df"
   ]
  },
  {
   "cell_type": "code",
   "execution_count": null,
   "id": "acdfa836-539a-4cc9-8331-23a2ecaded72",
   "metadata": {},
   "outputs": [],
   "source": [
    "a = sns.barplot(x = 'Day', y ='Total', data = df)\n",
    "a.set_xticklabels(a.get_xticklabels(), rotation=90);"
   ]
  },
  {
   "cell_type": "code",
   "execution_count": null,
   "id": "0c4f7496-a928-453b-bee5-7b0e4b20d10d",
   "metadata": {},
   "outputs": [],
   "source": [
    "df.groupby(by = 'Day')['Total'].sum().sort_values()"
   ]
  },
  {
   "cell_type": "code",
   "execution_count": null,
   "id": "ec50f422-8288-4d65-a469-8aa5b9d1ec94",
   "metadata": {},
   "outputs": [],
   "source": [
    "a = df['Day'].unique().tolist()\n",
    "isnormal = 0\n",
    "for i in a: \n",
    "    ttest, pvalue = stats.shapiro(df[df['Day'] == i]['Total'].values)\n",
    "    if pvalue > 0.05:\n",
    "        isnormal += 1\n",
    "\n",
    "\n",
    "ishomogen = 0\n",
    "for i in a:\n",
    "    for b in a:\n",
    "        if i == b:\n",
    "            continue\n",
    "        else:\n",
    "            test, pvalue = stats.levene(df[df['Day'] == i]['Total'].values, df[df['Day'] == b]['Total'].values)\n",
    "        if pvalue > 0.05:\n",
    "            ishomogen += 1\n",
    "\n",
    "if isnormal == len(a) and ishomogen == 30:\n",
    "    print(f'All variables are normal and homogenize. We can use parametric test.')\n",
    "    for i in a:\n",
    "        for b in a:\n",
    "            if i == b:\n",
    "                continue\n",
    "            else:\n",
    "                test, pvalue = stats.ttest_ind(df[df['Day'] == i]['Total'].values, df[df['Day'] == b]['Total'].values)\n",
    "            if pvalue > 0.05:\n",
    "                print(f'For{i} and {b}, H0 can acceptable ')\n",
    "            else:\n",
    "                 print(f'For{i} and {b}, H1 can acceptable ')\n",
    "    \n",
    "else:\n",
    "    print(f'Because of one or more variable is not normal and homogenize. We will use non-parametric test which is name Mann Whitney U test.')\n",
    "    for i in a:\n",
    "        for b in a:\n",
    "            if i == b:\n",
    "                continue\n",
    "            else:\n",
    "                test, pvalue = stats.mannwhitneyu(df[df['Day'] == i]['Total'].values, df[df['Day'] == b]['Total'].values)\n",
    "            if pvalue > 0.05:\n",
    "                print(f'For {i} and {b}, H0 can acceptable')\n",
    "            else:\n",
    "                print(f'For {i} and {b}, H1 can acceptable')"
   ]
  },
  {
   "cell_type": "markdown",
   "id": "1fc623ef-3390-4748-b250-b8dff6afd614",
   "metadata": {},
   "source": [
    "**Günler arasındaki satış geliri arasında bir fark yoktur.**"
   ]
  },
  {
   "cell_type": "markdown",
   "id": "55bbe546-5953-4f89-bfbb-c1477dfca857",
   "metadata": {},
   "source": [
    "### Hangi şehirde daha fazla satış yapılıyor?"
   ]
  },
  {
   "cell_type": "code",
   "execution_count": null,
   "id": "42acb396-b693-4cac-92fe-890fd532098e",
   "metadata": {},
   "outputs": [],
   "source": [
    "a = df['City'].unique().tolist()\n",
    "isnormal = 0\n",
    "for i in a: \n",
    "    ttest, pvalue = stats.shapiro(df[df['City'] == i]['Total'].values)\n",
    "    if pvalue > 0.05:\n",
    "        isnormal += 1\n",
    "\n",
    "\n",
    "ishomogen = 0\n",
    "for i in a:\n",
    "    for b in a:\n",
    "        if i == b:\n",
    "            continue\n",
    "        else:\n",
    "            test, pvalue = stats.levene(df[df['City'] == i]['Total'].values, df[df['City'] == b]['Total'].values)\n",
    "        if pvalue > 0.05:\n",
    "            ishomogen += 1\n",
    "\n",
    "if isnormal == len(a) and ishomogen == 30:\n",
    "    print(f'All variables are normal and homogenize. We can use parametric test.')\n",
    "    for i in a:\n",
    "        for b in a:\n",
    "            if i == b:\n",
    "                continue\n",
    "            else:\n",
    "                test, pvalue = stats.ttest_ind(df[df['City'] == i]['Total'].values, df[df['City'] == b]['Total'].values)\n",
    "            if pvalue > 0.05:\n",
    "                print(f'For{i} and {b}, H0 can acceptable ')\n",
    "            else:\n",
    "                 print(f'For{i} and {b}, H1 can acceptable ')\n",
    "    \n",
    "else:\n",
    "    print(f'Because of one or more variable is not normal and homogenize. We will use non-parametric test which is name Mann Whitney U test.')\n",
    "    for i in a:\n",
    "        for b in a:\n",
    "            if i == b:\n",
    "                continue\n",
    "            else:\n",
    "                test, pvalue = stats.mannwhitneyu(df[df['City'] == i]['Total'].values, df[df['City'] == b]['Total'].values)\n",
    "            if pvalue > 0.05:\n",
    "                print(f'For {i} and {b}, H0 can acceptable')\n",
    "            else:\n",
    "                print(f'For {i} and {b}, H1 can acceptable')"
   ]
  },
  {
   "cell_type": "markdown",
   "id": "9b65cc83-b4ee-4703-a01e-78cfe02cba68",
   "metadata": {},
   "source": [
    "**Tüm şehirlerde aynı miktarda satış geliri elde edilmektedir.**"
   ]
  },
  {
   "cell_type": "code",
   "execution_count": 27,
   "id": "77ecb4c1-4511-437a-ba4f-d194c7974a25",
   "metadata": {},
   "outputs": [],
   "source": [
    "ttest, pvalue = stats.ttest_ind(df[df['City'] == 'Yangon']['Total'], df[df['City'] == 'Mandalay']['Total'])"
   ]
  },
  {
   "cell_type": "code",
   "execution_count": 28,
   "id": "a602eb61-8dc0-45c6-bb51-760a9d6cf026",
   "metadata": {},
   "outputs": [
    {
     "data": {
      "text/plain": [
       "True"
      ]
     },
     "execution_count": 28,
     "metadata": {},
     "output_type": "execute_result"
    }
   ],
   "source": [
    "pvalue > 0.05"
   ]
  },
  {
   "cell_type": "markdown",
   "id": "1b0782b2-1c06-4126-892e-2a24de7e8efc",
   "metadata": {},
   "source": [
    "### Müşteriler en çok hangi ödeme yöntemini kullanıyor? "
   ]
  },
  {
   "cell_type": "code",
   "execution_count": 29,
   "id": "30e3c822-320e-4ceb-9be2-acd587417912",
   "metadata": {},
   "outputs": [
    {
     "data": {
      "image/png": "[encoded data removed]",
      "text/plain": [
       "<Figure size 640x480 with 1 Axes>"
      ]
     },
     "metadata": {},
     "output_type": "display_data"
    }
   ],
   "source": [
    "sns.countplot(x = 'Payment', data = df);"
   ]
  },
  {
   "cell_type": "code",
   "execution_count": 30,
   "id": "fbbc046c-286b-41bc-8433-2e5ffa40db41",
   "metadata": {},
   "outputs": [
    {
     "data": {
      "text/plain": [
       "False"
      ]
     },
     "execution_count": 30,
     "metadata": {},
     "output_type": "execute_result"
    }
   ],
   "source": [
    "ttest, pvalue = stats.shapiro(df[df['Payment'] == 'Ewallet']['Total'])\n",
    "pvalue > 0.05"
   ]
  },
  {
   "cell_type": "code",
   "execution_count": 31,
   "id": "9bec4d5f-8898-4cc1-8c5a-4cfa8da1fef4",
   "metadata": {},
   "outputs": [
    {
     "data": {
      "text/plain": [
       "False"
      ]
     },
     "execution_count": 31,
     "metadata": {},
     "output_type": "execute_result"
    }
   ],
   "source": [
    "ttest, pvalue = stats.shapiro(df[df['Payment'] == 'Cash']['Total'])\n",
    "pvalue > 0.05"
   ]
  },
  {
   "cell_type": "code",
   "execution_count": 32,
   "id": "0a08d1aa-fb1d-494c-ba06-d0ad3d7eba4b",
   "metadata": {},
   "outputs": [
    {
     "data": {
      "text/plain": [
       "False"
      ]
     },
     "execution_count": 32,
     "metadata": {},
     "output_type": "execute_result"
    }
   ],
   "source": [
    "ttest, pvalue = stats.shapiro(df[df['Payment'] == 'Credit card']['Total'])\n",
    "pvalue > 0.05"
   ]
  },
  {
   "cell_type": "markdown",
   "id": "b51d7a5f-dadf-4c4e-b31f-0662dc6b9b5f",
   "metadata": {},
   "source": [
    "**Hepsi normal dağılıma uygun değildir. Mann Whitney testi yapılacaktır**"
   ]
  },
  {
   "cell_type": "code",
   "execution_count": 33,
   "id": "c84da933-6a10-4149-8e98-a24f2b121a9c",
   "metadata": {},
   "outputs": [
    {
     "data": {
      "text/plain": [
       "True"
      ]
     },
     "execution_count": 33,
     "metadata": {},
     "output_type": "execute_result"
    }
   ],
   "source": [
    "ttest, pvalue = stats.mannwhitneyu(df[df['Payment'] == 'Ewallet']['Total'],df[df['Payment'] == 'Cash']['Total'])\n",
    "pvalue > 0.05"
   ]
  },
  {
   "cell_type": "markdown",
   "id": "c28dffb8-080b-42d9-8bbc-9307fd241bcb",
   "metadata": {},
   "source": [
    "**Bu iki ödeme yönteminin ortalamaları arasında bir fark yoktur. Her iki ödeme yöntemi de aynı sayıda kullanılmaktadır.**"
   ]
  },
  {
   "cell_type": "code",
   "execution_count": 34,
   "id": "0b2a91d5-20ee-4acf-af15-9df00a16637e",
   "metadata": {},
   "outputs": [
    {
     "data": {
      "text/plain": [
       "True"
      ]
     },
     "execution_count": 34,
     "metadata": {},
     "output_type": "execute_result"
    }
   ],
   "source": [
    "ttest, pvalue = stats.mannwhitneyu(df[df['Payment'] == 'Ewallet']['Total'],df[df['Payment'] == 'Credit card']['Total'])\n",
    "pvalue > 0.05"
   ]
  },
  {
   "cell_type": "markdown",
   "id": "d81ce212-8e4c-4d5a-a463-95ff623b7098",
   "metadata": {},
   "source": [
    "**Bu iki ödeme yönteminin ortalamaları arasında bir fark yoktur. Her iki ödeme yöntemi de aynı sayıda kullanılmaktadır.**"
   ]
  },
  {
   "cell_type": "code",
   "execution_count": 35,
   "id": "d13376ef-dd96-4a38-b3ed-aed2f6a01139",
   "metadata": {},
   "outputs": [
    {
     "data": {
      "text/plain": [
       "True"
      ]
     },
     "execution_count": 35,
     "metadata": {},
     "output_type": "execute_result"
    }
   ],
   "source": [
    "ttest, pvalue = stats.mannwhitneyu(df[df['Payment'] == 'Cash']['Total'],df[df['Payment'] == 'Credit card']['Total'])\n",
    "pvalue > 0.05"
   ]
  },
  {
   "cell_type": "markdown",
   "id": "bd354b8a-96b1-4c26-993d-57d18296bd67",
   "metadata": {},
   "source": [
    "**Bu iki ödeme yönteminin ortalamaları arasında bir fark yoktur. Her iki ödeme yöntemi de aynı sayıda kullanılmaktadır.**"
   ]
  },
  {
   "cell_type": "markdown",
   "id": "08884d6a-8bb9-4dc5-8c03-0e4eb3559f52",
   "metadata": {},
   "source": [
    "### Daha çok kadınlar mı yoksa erkekler mi daha fazla alışveriş yapıyor?"
   ]
  },
  {
   "cell_type": "code",
   "execution_count": 36,
   "id": "72fb863c-7b7c-4fb4-971e-08e23a27e63b",
   "metadata": {},
   "outputs": [
    {
     "data": {
      "image/png": "[encoded data removed]",
      "text/plain": [
       "<Figure size 640x480 with 1 Axes>"
      ]
     },
     "metadata": {},
     "output_type": "display_data"
    }
   ],
   "source": [
    "sns.barplot(x = 'Gender', y = 'Total', data = df);"
   ]
  },
  {
   "cell_type": "code",
   "execution_count": 37,
   "id": "af47c8a3-79f3-48ba-b35a-7b7e524c76c9",
   "metadata": {},
   "outputs": [
    {
     "data": {
      "text/plain": [
       "False"
      ]
     },
     "execution_count": 37,
     "metadata": {},
     "output_type": "execute_result"
    }
   ],
   "source": [
    "ttest, pvalue = stats.shapiro(df[df['Gender'] == 'Female']['Total'])\n",
    "pvalue > 0.05"
   ]
  },
  {
   "cell_type": "code",
   "execution_count": 38,
   "id": "5edb6cdb-67b0-4811-8c8b-ea7a631b8348",
   "metadata": {},
   "outputs": [
    {
     "data": {
      "text/plain": [
       "False"
      ]
     },
     "execution_count": 38,
     "metadata": {},
     "output_type": "execute_result"
    }
   ],
   "source": [
    "ttest, pvalue = stats.shapiro(df[df['Gender'] == 'Male']['Total'])\n",
    "pvalue > 0.05"
   ]
  },
  {
   "cell_type": "markdown",
   "id": "c4fd186c-5dad-4160-a2c9-d187be66d9d6",
   "metadata": {},
   "source": [
    "**Her ikisi de normal dağılmamıştır**"
   ]
  },
  {
   "cell_type": "code",
   "execution_count": 39,
   "id": "54fe6285-1f09-4ef2-a493-4cb21f674dc6",
   "metadata": {},
   "outputs": [
    {
     "data": {
      "text/plain": [
       "True"
      ]
     },
     "execution_count": 39,
     "metadata": {},
     "output_type": "execute_result"
    }
   ],
   "source": [
    "ttest, pvalue = stats.mannwhitneyu(df[df['Gender'] == 'Female']['Total'], df[df['Gender'] == 'Male']['Total'])\n",
    "pvalue > 0.05"
   ]
  },
  {
   "cell_type": "markdown",
   "id": "09cfa768-d8ea-4703-b2ea-d449fd3e211a",
   "metadata": {},
   "source": [
    "Erkekler ve kadınlar aynı sayıda alışveriş yapmaktadır"
   ]
  },
  {
   "cell_type": "markdown",
   "id": "dc749961-1a49-4b72-be84-31ee9af112c7",
   "metadata": {},
   "source": [
    "### Hangi aylarda daha çok alışveriş yapılıyor?"
   ]
  },
  {
   "cell_type": "code",
   "execution_count": 40,
   "id": "29976916-2ef5-4166-a9ff-d8bec73b58ce",
   "metadata": {},
   "outputs": [],
   "source": [
    "df['Month'] = df['Date'].dt.month_name()"
   ]
  },
  {
   "cell_type": "code",
   "execution_count": 41,
   "id": "9b647db2-2acb-4702-810d-7e516c9eca9f",
   "metadata": {},
   "outputs": [
    {
     "data": {
      "text/plain": [
       "0     2019-01-05\n",
       "1     2019-03-08\n",
       "2     2019-03-03\n",
       "3     2019-01-27\n",
       "4     2019-02-08\n",
       "         ...    \n",
       "995   2019-01-29\n",
       "996   2019-03-02\n",
       "997   2019-02-09\n",
       "998   2019-02-22\n",
       "999   2019-02-18\n",
       "Name: Date, Length: 1000, dtype: datetime64[ns]"
      ]
     },
     "execution_count": 41,
     "metadata": {},
     "output_type": "execute_result"
    }
   ],
   "source": [
    "df['Date']"
   ]
  },
  {
   "cell_type": "code",
   "execution_count": 42,
   "id": "ab552ee8-59ed-4cde-85ba-dd128de863c5",
   "metadata": {},
   "outputs": [
    {
     "data": {
      "text/html": [
       "<div>\n",
       "<style scoped>\n",
       "    .dataframe tbody tr th:only-of-type {\n",
       "        vertical-align: middle;\n",
       "    }\n",
       "\n",
       "    .dataframe tbody tr th {\n",
       "        vertical-align: top;\n",
       "    }\n",
       "\n",
       "    .dataframe thead th {\n",
       "        text-align: right;\n",
       "    }\n",
       "</style>\n",
       "<table border=\"1\" class=\"dataframe\">\n",
       "  <thead>\n",
       "    <tr style=\"text-align: right;\">\n",
       "      <th></th>\n",
       "      <th>Invoice ID</th>\n",
       "      <th>Branch</th>\n",
       "      <th>City</th>\n",
       "      <th>Customer type</th>\n",
       "      <th>Gender</th>\n",
       "      <th>Product line</th>\n",
       "      <th>Unit price</th>\n",
       "      <th>Quantity</th>\n",
       "      <th>Tax 5%</th>\n",
       "      <th>Total</th>\n",
       "      <th>Date</th>\n",
       "      <th>Time</th>\n",
       "      <th>Payment</th>\n",
       "      <th>cogs</th>\n",
       "      <th>gross margin percentage</th>\n",
       "      <th>gross income</th>\n",
       "      <th>Rating</th>\n",
       "      <th>Month</th>\n",
       "    </tr>\n",
       "  </thead>\n",
       "  <tbody>\n",
       "    <tr>\n",
       "      <th>0</th>\n",
       "      <td>750-67-8428</td>\n",
       "      <td>A</td>\n",
       "      <td>Yangon</td>\n",
       "      <td>Member</td>\n",
       "      <td>Female</td>\n",
       "      <td>Health and beauty</td>\n",
       "      <td>74.69</td>\n",
       "      <td>7</td>\n",
       "      <td>26.1415</td>\n",
       "      <td>548.9715</td>\n",
       "      <td>2019-01-05</td>\n",
       "      <td>13:08</td>\n",
       "      <td>Ewallet</td>\n",
       "      <td>522.83</td>\n",
       "      <td>4.761905</td>\n",
       "      <td>26.1415</td>\n",
       "      <td>9.1</td>\n",
       "      <td>January</td>\n",
       "    </tr>\n",
       "    <tr>\n",
       "      <th>1</th>\n",
       "      <td>226-31-3081</td>\n",
       "      <td>C</td>\n",
       "      <td>Naypyitaw</td>\n",
       "      <td>Normal</td>\n",
       "      <td>Female</td>\n",
       "      <td>Electronic accessories</td>\n",
       "      <td>15.28</td>\n",
       "      <td>5</td>\n",
       "      <td>3.8200</td>\n",
       "      <td>80.2200</td>\n",
       "      <td>2019-03-08</td>\n",
       "      <td>10:29</td>\n",
       "      <td>Cash</td>\n",
       "      <td>76.40</td>\n",
       "      <td>4.761905</td>\n",
       "      <td>3.8200</td>\n",
       "      <td>9.6</td>\n",
       "      <td>March</td>\n",
       "    </tr>\n",
       "    <tr>\n",
       "      <th>2</th>\n",
       "      <td>631-41-3108</td>\n",
       "      <td>A</td>\n",
       "      <td>Yangon</td>\n",
       "      <td>Normal</td>\n",
       "      <td>Male</td>\n",
       "      <td>Home and lifestyle</td>\n",
       "      <td>46.33</td>\n",
       "      <td>7</td>\n",
       "      <td>16.2155</td>\n",
       "      <td>340.5255</td>\n",
       "      <td>2019-03-03</td>\n",
       "      <td>13:23</td>\n",
       "      <td>Credit card</td>\n",
       "      <td>324.31</td>\n",
       "      <td>4.761905</td>\n",
       "      <td>16.2155</td>\n",
       "      <td>7.4</td>\n",
       "      <td>March</td>\n",
       "    </tr>\n",
       "    <tr>\n",
       "      <th>3</th>\n",
       "      <td>123-19-1176</td>\n",
       "      <td>A</td>\n",
       "      <td>Yangon</td>\n",
       "      <td>Member</td>\n",
       "      <td>Male</td>\n",
       "      <td>Health and beauty</td>\n",
       "      <td>58.22</td>\n",
       "      <td>8</td>\n",
       "      <td>23.2880</td>\n",
       "      <td>489.0480</td>\n",
       "      <td>2019-01-27</td>\n",
       "      <td>20:33</td>\n",
       "      <td>Ewallet</td>\n",
       "      <td>465.76</td>\n",
       "      <td>4.761905</td>\n",
       "      <td>23.2880</td>\n",
       "      <td>8.4</td>\n",
       "      <td>January</td>\n",
       "    </tr>\n",
       "    <tr>\n",
       "      <th>4</th>\n",
       "      <td>373-73-7910</td>\n",
       "      <td>A</td>\n",
       "      <td>Yangon</td>\n",
       "      <td>Normal</td>\n",
       "      <td>Male</td>\n",
       "      <td>Sports and travel</td>\n",
       "      <td>86.31</td>\n",
       "      <td>7</td>\n",
       "      <td>30.2085</td>\n",
       "      <td>634.3785</td>\n",
       "      <td>2019-02-08</td>\n",
       "      <td>10:37</td>\n",
       "      <td>Ewallet</td>\n",
       "      <td>604.17</td>\n",
       "      <td>4.761905</td>\n",
       "      <td>30.2085</td>\n",
       "      <td>5.3</td>\n",
       "      <td>February</td>\n",
       "    </tr>\n",
       "    <tr>\n",
       "      <th>5</th>\n",
       "      <td>699-14-3026</td>\n",
       "      <td>C</td>\n",
       "      <td>Naypyitaw</td>\n",
       "      <td>Normal</td>\n",
       "      <td>Male</td>\n",
       "      <td>Electronic accessories</td>\n",
       "      <td>85.39</td>\n",
       "      <td>7</td>\n",
       "      <td>29.8865</td>\n",
       "      <td>627.6165</td>\n",
       "      <td>2019-03-25</td>\n",
       "      <td>18:30</td>\n",
       "      <td>Ewallet</td>\n",
       "      <td>597.73</td>\n",
       "      <td>4.761905</td>\n",
       "      <td>29.8865</td>\n",
       "      <td>4.1</td>\n",
       "      <td>March</td>\n",
       "    </tr>\n",
       "    <tr>\n",
       "      <th>6</th>\n",
       "      <td>355-53-5943</td>\n",
       "      <td>A</td>\n",
       "      <td>Yangon</td>\n",
       "      <td>Member</td>\n",
       "      <td>Female</td>\n",
       "      <td>Electronic accessories</td>\n",
       "      <td>68.84</td>\n",
       "      <td>6</td>\n",
       "      <td>20.6520</td>\n",
       "      <td>433.6920</td>\n",
       "      <td>2019-02-25</td>\n",
       "      <td>14:36</td>\n",
       "      <td>Ewallet</td>\n",
       "      <td>413.04</td>\n",
       "      <td>4.761905</td>\n",
       "      <td>20.6520</td>\n",
       "      <td>5.8</td>\n",
       "      <td>February</td>\n",
       "    </tr>\n",
       "    <tr>\n",
       "      <th>7</th>\n",
       "      <td>315-22-5665</td>\n",
       "      <td>C</td>\n",
       "      <td>Naypyitaw</td>\n",
       "      <td>Normal</td>\n",
       "      <td>Female</td>\n",
       "      <td>Home and lifestyle</td>\n",
       "      <td>73.56</td>\n",
       "      <td>10</td>\n",
       "      <td>36.7800</td>\n",
       "      <td>772.3800</td>\n",
       "      <td>2019-02-24</td>\n",
       "      <td>11:38</td>\n",
       "      <td>Ewallet</td>\n",
       "      <td>735.60</td>\n",
       "      <td>4.761905</td>\n",
       "      <td>36.7800</td>\n",
       "      <td>8.0</td>\n",
       "      <td>February</td>\n",
       "    </tr>\n",
       "    <tr>\n",
       "      <th>8</th>\n",
       "      <td>665-32-9167</td>\n",
       "      <td>A</td>\n",
       "      <td>Yangon</td>\n",
       "      <td>Member</td>\n",
       "      <td>Female</td>\n",
       "      <td>Health and beauty</td>\n",
       "      <td>36.26</td>\n",
       "      <td>2</td>\n",
       "      <td>3.6260</td>\n",
       "      <td>76.1460</td>\n",
       "      <td>2019-01-10</td>\n",
       "      <td>17:15</td>\n",
       "      <td>Credit card</td>\n",
       "      <td>72.52</td>\n",
       "      <td>4.761905</td>\n",
       "      <td>3.6260</td>\n",
       "      <td>7.2</td>\n",
       "      <td>January</td>\n",
       "    </tr>\n",
       "    <tr>\n",
       "      <th>9</th>\n",
       "      <td>692-92-5582</td>\n",
       "      <td>B</td>\n",
       "      <td>Mandalay</td>\n",
       "      <td>Member</td>\n",
       "      <td>Female</td>\n",
       "      <td>Food and beverages</td>\n",
       "      <td>54.84</td>\n",
       "      <td>3</td>\n",
       "      <td>8.2260</td>\n",
       "      <td>172.7460</td>\n",
       "      <td>2019-02-20</td>\n",
       "      <td>13:27</td>\n",
       "      <td>Credit card</td>\n",
       "      <td>164.52</td>\n",
       "      <td>4.761905</td>\n",
       "      <td>8.2260</td>\n",
       "      <td>5.9</td>\n",
       "      <td>February</td>\n",
       "    </tr>\n",
       "  </tbody>\n",
       "</table>\n",
       "</div>"
      ],
      "text/plain": [
       "    Invoice ID Branch       City Customer type  Gender  \\\n",
       "0  750-67-8428      A     Yangon        Member  Female   \n",
       "1  226-31-3081      C  Naypyitaw        Normal  Female   \n",
       "2  631-41-3108      A     Yangon        Normal    Male   \n",
       "3  123-19-1176      A     Yangon        Member    Male   \n",
       "4  373-73-7910      A     Yangon        Normal    Male   \n",
       "5  699-14-3026      C  Naypyitaw        Normal    Male   \n",
       "6  355-53-5943      A     Yangon        Member  Female   \n",
       "7  315-22-5665      C  Naypyitaw        Normal  Female   \n",
       "8  665-32-9167      A     Yangon        Member  Female   \n",
       "9  692-92-5582      B   Mandalay        Member  Female   \n",
       "\n",
       "             Product line  Unit price  Quantity   Tax 5%     Total       Date  \\\n",
       "0       Health and beauty       74.69         7  26.1415  548.9715 2019-01-05   \n",
       "1  Electronic accessories       15.28         5   3.8200   80.2200 2019-03-08   \n",
       "2      Home and lifestyle       46.33         7  16.2155  340.5255 2019-03-03   \n",
       "3       Health and beauty       58.22         8  23.2880  489.0480 2019-01-27   \n",
       "4       Sports and travel       86.31         7  30.2085  634.3785 2019-02-08   \n",
       "5  Electronic accessories       85.39         7  29.8865  627.6165 2019-03-25   \n",
       "6  Electronic accessories       68.84         6  20.6520  433.6920 2019-02-25   \n",
       "7      Home and lifestyle       73.56        10  36.7800  772.3800 2019-02-24   \n",
       "8       Health and beauty       36.26         2   3.6260   76.1460 2019-01-10   \n",
       "9      Food and beverages       54.84         3   8.2260  172.7460 2019-02-20   \n",
       "\n",
       "    Time      Payment    cogs  gross margin percentage  gross income  Rating  \\\n",
       "0  13:08      Ewallet  522.83                 4.761905       26.1415     9.1   \n",
       "1  10:29         Cash   76.40                 4.761905        3.8200     9.6   \n",
       "2  13:23  Credit card  324.31                 4.761905       16.2155     7.4   \n",
       "3  20:33      Ewallet  465.76                 4.761905       23.2880     8.4   \n",
       "4  10:37      Ewallet  604.17                 4.761905       30.2085     5.3   \n",
       "5  18:30      Ewallet  597.73                 4.761905       29.8865     4.1   \n",
       "6  14:36      Ewallet  413.04                 4.761905       20.6520     5.8   \n",
       "7  11:38      Ewallet  735.60                 4.761905       36.7800     8.0   \n",
       "8  17:15  Credit card   72.52                 4.761905        3.6260     7.2   \n",
       "9  13:27  Credit card  164.52                 4.761905        8.2260     5.9   \n",
       "\n",
       "      Month  \n",
       "0   January  \n",
       "1     March  \n",
       "2     March  \n",
       "3   January  \n",
       "4  February  \n",
       "5     March  \n",
       "6  February  \n",
       "7  February  \n",
       "8   January  \n",
       "9  February  "
      ]
     },
     "execution_count": 42,
     "metadata": {},
     "output_type": "execute_result"
    }
   ],
   "source": [
    "df.head(10)"
   ]
  },
  {
   "cell_type": "code",
   "execution_count": 43,
   "id": "f844cf6e-8274-4122-98b6-629a34f023be",
   "metadata": {},
   "outputs": [
    {
     "data": {
      "image/png": "[encoded data removed]",
      "text/plain": [
       "<Figure size 640x480 with 1 Axes>"
      ]
     },
     "metadata": {},
     "output_type": "display_data"
    }
   ],
   "source": [
    "sns.barplot(x = 'Month', y = 'Total', data = df);"
   ]
  },
  {
   "cell_type": "code",
   "execution_count": 44,
   "id": "e83d8720-41cc-4569-a291-489b201b0a48",
   "metadata": {},
   "outputs": [
    {
     "data": {
      "text/plain": [
       "ShapiroResult(statistic=0.9170124530792236, pvalue=5.007587768925126e-13)"
      ]
     },
     "execution_count": 44,
     "metadata": {},
     "output_type": "execute_result"
    }
   ],
   "source": [
    "stats.shapiro(df[df['Month'] == 'January']['Total'])"
   ]
  },
  {
   "cell_type": "code",
   "execution_count": 45,
   "id": "e3af91fe-5ac8-4fc1-b544-ba6cd21f1a58",
   "metadata": {},
   "outputs": [
    {
     "data": {
      "text/plain": [
       "ShapiroResult(statistic=0.8950222134590149, pvalue=1.1144221904611697e-14)"
      ]
     },
     "execution_count": 45,
     "metadata": {},
     "output_type": "execute_result"
    }
   ],
   "source": [
    "stats.shapiro(df[df['Month'] == 'March']['Total'])"
   ]
  },
  {
   "cell_type": "code",
   "execution_count": 46,
   "id": "bd269df9-e439-4fe8-bd03-54a09e0860ed",
   "metadata": {},
   "outputs": [
    {
     "data": {
      "text/plain": [
       "ShapiroResult(statistic=0.9098659157752991, pvalue=1.6943862762505701e-12)"
      ]
     },
     "execution_count": 46,
     "metadata": {},
     "output_type": "execute_result"
    }
   ],
   "source": [
    "stats.shapiro(df[df['Month'] == 'February']['Total'])"
   ]
  },
  {
   "cell_type": "code",
   "execution_count": 47,
   "id": "41c93606-e002-491d-b668-946e58ea7eab",
   "metadata": {},
   "outputs": [
    {
     "data": {
      "text/plain": [
       "Ttest_indResult(statistic=0.49366428651111327, pvalue=0.6217092857192658)"
      ]
     },
     "execution_count": 47,
     "metadata": {},
     "output_type": "execute_result"
    }
   ],
   "source": [
    "stats.ttest_ind(df[df['Month'] == 'January']['Total'], df[df['Month'] == 'February']['Total'])"
   ]
  },
  {
   "cell_type": "code",
   "execution_count": 48,
   "id": "3e0dcab9-d4ec-47ab-b06b-bdce75eec391",
   "metadata": {},
   "outputs": [
    {
     "data": {
      "text/plain": [
       "Ttest_indResult(statistic=0.7014287394397869, pvalue=0.4832702888203173)"
      ]
     },
     "execution_count": 48,
     "metadata": {},
     "output_type": "execute_result"
    }
   ],
   "source": [
    "stats.ttest_ind(df[df['Month'] == 'January']['Total'], df[df['Month'] == 'March']['Total'])"
   ]
  },
  {
   "cell_type": "code",
   "execution_count": 49,
   "id": "7ede7513-c00c-43ea-9a54-bece4b88b7e5",
   "metadata": {},
   "outputs": [
    {
     "data": {
      "text/plain": [
       "Ttest_indResult(statistic=0.18603507908113384, pvalue=0.8524756529254642)"
      ]
     },
     "execution_count": 49,
     "metadata": {},
     "output_type": "execute_result"
    }
   ],
   "source": [
    "stats.ttest_ind(df[df['Month'] == 'February']['Total'], df[df['Month'] == 'March']['Total'])"
   ]
  },
  {
   "cell_type": "markdown",
   "id": "aeb78df4-8547-418c-8e75-ca17a130b518",
   "metadata": {},
   "source": [
    "**Aylarda gerçekleştirilen satış gelirleri arasında bir fark yoktur**"
   ]
  },
  {
   "cell_type": "markdown",
   "id": "6bb5f316-6124-4935-8868-cad7fd4b1931",
   "metadata": {},
   "source": [
    "Peki aykırı gözlemleri ortadan kaldırır isek sonuçlar aynı olacak mı?"
   ]
  },
  {
   "cell_type": "code",
   "execution_count": 58,
   "id": "d9bd2a68-8920-4f2e-b188-425084478c3c",
   "metadata": {},
   "outputs": [],
   "source": [
    "from sklearn.neighbors import LocalOutlierFactor\n",
    "f = df.select_dtypes(['float64', 'int64']).copy()"
   ]
  },
  {
   "cell_type": "code",
   "execution_count": 53,
   "id": "d6d72d1e-289d-46d4-9f6d-832b804d4dbf",
   "metadata": {},
   "outputs": [],
   "source": [
    "clf = LocalOutlierFactor(n_neighbors = 20, contamination = 0.1)"
   ]
  },
  {
   "cell_type": "code",
   "execution_count": 59,
   "id": "6db6c3c4-d53f-488a-8a89-77d90055880b",
   "metadata": {},
   "outputs": [
    {
     "data": {
      "text/plain": [
       "array([ 1,  1,  1,  1,  1,  1,  1,  1,  1,  1,  1,  1,  1,  1,  1,  1,  1,\n",
       "        1,  1, -1,  1,  1, -1,  1,  1,  1,  1,  1,  1, -1,  1,  1,  1, -1,\n",
       "       -1,  1,  1,  1,  1,  1,  1,  1,  1,  1,  1,  1,  1,  1,  1, -1,  1,\n",
       "        1,  1,  1,  1,  1, -1,  1,  1,  1,  1,  1,  1,  1,  1,  1, -1,  1,\n",
       "        1,  1,  1,  1,  1,  1,  1,  1,  1,  1,  1,  1,  1,  1,  1,  1,  1,\n",
       "        1,  1,  1,  1,  1,  1,  1,  1,  1,  1,  1,  1,  1,  1,  1,  1,  1,\n",
       "        1,  1,  1,  1,  1,  1,  1,  1,  1,  1,  1,  1,  1,  1,  1,  1,  1,\n",
       "       -1,  1,  1,  1,  1,  1,  1,  1,  1,  1,  1,  1,  1,  1,  1,  1,  1,\n",
       "        1,  1,  1,  1,  1,  1,  1,  1,  1,  1, -1,  1,  1,  1,  1,  1,  1,\n",
       "        1,  1,  1,  1,  1,  1,  1,  1,  1,  1,  1,  1,  1, -1, -1,  1,  1,\n",
       "        1,  1,  1,  1,  1, -1,  1,  1,  1,  1,  1,  1, -1,  1,  1,  1,  1,\n",
       "        1,  1,  1,  1, -1,  1,  1,  1,  1, -1,  1,  1,  1,  1,  1,  1,  1,\n",
       "        1,  1,  1,  1,  1,  1,  1,  1,  1, -1,  1,  1,  1,  1,  1, -1,  1,\n",
       "        1,  1, -1, -1,  1,  1,  1,  1,  1, -1, -1,  1,  1,  1,  1,  1,  1,\n",
       "        1,  1, -1,  1,  1,  1,  1,  1,  1,  1,  1,  1,  1,  1,  1,  1,  1,\n",
       "        1,  1,  1,  1,  1,  1,  1,  1, -1,  1,  1,  1,  1,  1,  1,  1, -1,\n",
       "        1,  1,  1,  1,  1,  1,  1,  1,  1,  1,  1,  1,  1,  1,  1,  1,  1,\n",
       "        1,  1,  1,  1,  1,  1,  1,  1,  1,  1,  1, -1,  1,  1,  1,  1,  1,\n",
       "        1,  1,  1, -1,  1,  1,  1,  1,  1, -1,  1,  1,  1,  1,  1,  1,  1,\n",
       "        1,  1,  1, -1,  1,  1,  1,  1, -1,  1,  1,  1,  1,  1,  1,  1,  1,\n",
       "        1,  1,  1,  1,  1,  1,  1,  1,  1,  1, -1,  1,  1,  1,  1, -1,  1,\n",
       "       -1,  1,  1,  1,  1, -1,  1,  1, -1,  1,  1,  1,  1,  1,  1,  1,  1,\n",
       "        1,  1,  1,  1,  1,  1, -1,  1, -1,  1,  1,  1,  1,  1,  1,  1,  1,\n",
       "        1,  1,  1,  1,  1,  1,  1,  1,  1,  1,  1, -1,  1,  1,  1,  1,  1,\n",
       "        1,  1,  1, -1,  1,  1,  1,  1,  1,  1,  1,  1,  1,  1, -1,  1,  1,\n",
       "        1,  1,  1,  1,  1,  1, -1,  1,  1,  1,  1, -1,  1,  1,  1,  1,  1,\n",
       "        1, -1,  1,  1,  1, -1,  1,  1,  1,  1,  1,  1,  1,  1,  1,  1,  1,\n",
       "        1,  1,  1,  1,  1,  1, -1,  1,  1,  1, -1,  1,  1,  1,  1,  1, -1,\n",
       "        1, -1,  1,  1,  1,  1,  1,  1,  1,  1,  1,  1,  1,  1, -1,  1,  1,\n",
       "        1, -1,  1,  1,  1,  1,  1,  1,  1,  1,  1,  1,  1,  1,  1,  1,  1,\n",
       "        1,  1,  1,  1,  1,  1,  1,  1, -1,  1, -1,  1,  1,  1,  1,  1,  1,\n",
       "        1,  1,  1,  1,  1, -1,  1,  1,  1,  1,  1,  1,  1,  1,  1,  1,  1,\n",
       "        1,  1,  1,  1,  1,  1, -1,  1,  1,  1,  1, -1, -1, -1,  1, -1,  1,\n",
       "        1,  1,  1, -1,  1,  1,  1,  1,  1, -1,  1,  1, -1,  1,  1,  1,  1,\n",
       "        1,  1,  1,  1,  1,  1, -1,  1,  1,  1,  1,  1,  1,  1,  1,  1,  1,\n",
       "        1,  1,  1,  1,  1,  1,  1,  1,  1,  1,  1,  1,  1,  1,  1,  1,  1,\n",
       "        1,  1,  1,  1,  1,  1,  1,  1, -1,  1,  1, -1,  1, -1,  1, -1,  1,\n",
       "       -1,  1,  1,  1,  1,  1,  1,  1,  1,  1,  1,  1,  1,  1,  1,  1,  1,\n",
       "        1,  1,  1,  1,  1,  1,  1,  1,  1,  1, -1,  1,  1,  1,  1,  1,  1,\n",
       "        1, -1,  1, -1,  1,  1, -1,  1,  1, -1,  1,  1,  1,  1,  1,  1,  1,\n",
       "        1,  1,  1, -1,  1, -1,  1,  1, -1, -1,  1,  1,  1,  1,  1,  1,  1,\n",
       "        1,  1, -1,  1, -1,  1,  1,  1,  1,  1,  1,  1,  1,  1,  1,  1,  1,\n",
       "        1,  1,  1, -1,  1,  1,  1,  1,  1,  1,  1,  1,  1,  1,  1,  1,  1,\n",
       "        1,  1,  1,  1,  1,  1,  1,  1,  1,  1,  1, -1,  1,  1,  1,  1,  1,\n",
       "        1,  1,  1,  1,  1,  1,  1,  1,  1,  1,  1,  1,  1,  1,  1,  1,  1,\n",
       "        1,  1,  1,  1,  1,  1,  1,  1,  1,  1,  1,  1,  1,  1,  1,  1,  1,\n",
       "        1,  1,  1,  1,  1,  1, -1,  1,  1,  1, -1,  1, -1,  1,  1,  1,  1,\n",
       "        1,  1,  1,  1,  1,  1,  1,  1,  1,  1,  1,  1,  1,  1,  1,  1,  1,\n",
       "        1,  1,  1,  1,  1, -1, -1, -1,  1,  1,  1,  1,  1,  1,  1,  1,  1,\n",
       "        1,  1,  1,  1,  1,  1,  1,  1,  1, -1,  1,  1,  1,  1,  1,  1,  1,\n",
       "        1, -1,  1,  1,  1,  1,  1,  1,  1,  1,  1,  1, -1,  1,  1, -1,  1,\n",
       "        1,  1,  1,  1,  1,  1,  1,  1,  1,  1,  1,  1,  1,  1,  1,  1,  1,\n",
       "       -1,  1,  1,  1,  1,  1,  1,  1,  1,  1,  1,  1,  1,  1,  1,  1,  1,\n",
       "        1,  1,  1,  1,  1,  1, -1,  1,  1,  1,  1,  1,  1,  1,  1,  1,  1,\n",
       "       -1,  1,  1,  1,  1,  1,  1,  1,  1,  1,  1,  1,  1, -1,  1,  1,  1,\n",
       "        1,  1,  1, -1,  1,  1,  1,  1,  1,  1,  1,  1,  1,  1,  1,  1,  1,\n",
       "        1,  1,  1,  1,  1,  1,  1,  1,  1, -1,  1,  1, -1,  1,  1,  1,  1,\n",
       "        1,  1,  1,  1,  1,  1, -1,  1,  1,  1,  1,  1,  1,  1,  1,  1,  1,\n",
       "        1,  1, -1,  1,  1,  1,  1,  1,  1,  1, -1,  1,  1,  1])"
      ]
     },
     "execution_count": 59,
     "metadata": {},
     "output_type": "execute_result"
    }
   ],
   "source": [
    "clf.fit_predict(f)"
   ]
  },
  {
   "cell_type": "code",
   "execution_count": 61,
   "id": "440a74a0-f3dc-4e7f-b49f-f3bb9f65b45b",
   "metadata": {},
   "outputs": [],
   "source": [
    "df_scores = clf.negative_outlier_factor_"
   ]
  },
  {
   "cell_type": "code",
   "execution_count": 68,
   "id": "ab131cce-ecfe-4a9c-8c05-6fd573c72fd3",
   "metadata": {},
   "outputs": [],
   "source": [
    "esik_Deger = np.sort(df_scores)[50]"
   ]
  },
  {
   "cell_type": "code",
   "execution_count": 69,
   "id": "7ec8904f-552d-4184-85d9-4956e879c67c",
   "metadata": {},
   "outputs": [],
   "source": [
    "aykiri_tf = df_scores > esik_Deger"
   ]
  },
  {
   "cell_type": "code",
   "execution_count": 70,
   "id": "aae35ce8-1351-4956-87a1-e447af37abb3",
   "metadata": {},
   "outputs": [
    {
     "data": {
      "text/plain": [
       "array([ True,  True,  True,  True,  True,  True,  True,  True,  True,\n",
       "        True,  True,  True,  True,  True,  True,  True,  True,  True,\n",
       "        True,  True,  True,  True,  True,  True,  True,  True,  True,\n",
       "        True,  True,  True,  True,  True,  True,  True,  True,  True,\n",
       "        True,  True,  True,  True,  True,  True,  True,  True,  True,\n",
       "        True,  True,  True,  True, False,  True,  True,  True,  True,\n",
       "        True,  True, False,  True,  True,  True,  True,  True,  True,\n",
       "        True,  True,  True,  True,  True,  True,  True,  True,  True,\n",
       "        True,  True,  True,  True,  True,  True,  True,  True,  True,\n",
       "        True,  True,  True,  True,  True,  True,  True,  True,  True,\n",
       "        True,  True,  True,  True,  True,  True,  True,  True,  True,\n",
       "        True,  True,  True,  True,  True,  True,  True,  True,  True,\n",
       "        True,  True,  True,  True,  True,  True,  True,  True,  True,\n",
       "        True,  True, False,  True,  True,  True,  True,  True,  True,\n",
       "        True,  True,  True,  True,  True,  True,  True,  True,  True,\n",
       "        True,  True,  True,  True,  True,  True,  True,  True,  True,\n",
       "        True,  True,  True,  True,  True,  True,  True,  True,  True,\n",
       "        True,  True,  True,  True,  True,  True,  True,  True,  True,\n",
       "        True,  True,  True,  True, False, False,  True,  True,  True,\n",
       "        True,  True,  True,  True,  True,  True,  True,  True,  True,\n",
       "        True,  True,  True,  True,  True,  True,  True,  True,  True,\n",
       "        True,  True,  True,  True,  True,  True,  True, False,  True,\n",
       "        True,  True,  True,  True,  True,  True,  True,  True,  True,\n",
       "        True,  True,  True,  True,  True,  True,  True,  True,  True,\n",
       "        True,  True,  True,  True,  True,  True,  True, False, False,\n",
       "        True,  True,  True,  True,  True,  True, False,  True,  True,\n",
       "        True,  True,  True,  True,  True,  True,  True,  True,  True,\n",
       "        True,  True,  True,  True,  True,  True,  True,  True,  True,\n",
       "        True,  True,  True,  True,  True,  True,  True,  True,  True,\n",
       "        True,  True, False,  True,  True,  True,  True,  True,  True,\n",
       "        True,  True,  True,  True,  True,  True,  True,  True,  True,\n",
       "        True,  True,  True,  True,  True,  True,  True,  True,  True,\n",
       "        True,  True,  True,  True,  True,  True,  True,  True,  True,\n",
       "        True,  True,  True, False,  True,  True,  True,  True,  True,\n",
       "        True,  True,  True,  True,  True,  True,  True,  True,  True,\n",
       "       False,  True,  True,  True,  True,  True,  True,  True,  True,\n",
       "        True,  True, False,  True,  True,  True,  True,  True,  True,\n",
       "        True,  True,  True,  True,  True,  True,  True,  True,  True,\n",
       "        True,  True,  True,  True,  True,  True,  True,  True, False,\n",
       "        True,  True,  True,  True, False,  True, False,  True,  True,\n",
       "        True,  True, False,  True,  True,  True,  True,  True,  True,\n",
       "        True,  True,  True,  True,  True,  True,  True,  True,  True,\n",
       "        True,  True,  True,  True, False,  True,  True,  True,  True,\n",
       "        True,  True,  True,  True,  True,  True,  True,  True,  True,\n",
       "        True,  True,  True,  True,  True,  True,  True,  True,  True,\n",
       "        True,  True,  True,  True,  True,  True,  True,  True,  True,\n",
       "        True,  True,  True,  True,  True,  True,  True,  True, False,\n",
       "        True,  True,  True,  True,  True,  True,  True,  True, False,\n",
       "        True,  True,  True,  True, False,  True,  True,  True,  True,\n",
       "        True,  True, False,  True,  True,  True,  True,  True,  True,\n",
       "        True,  True,  True,  True,  True,  True,  True,  True,  True,\n",
       "        True,  True,  True,  True,  True,  True,  True,  True,  True,\n",
       "        True,  True,  True,  True,  True,  True,  True, False,  True,\n",
       "       False,  True,  True,  True,  True,  True,  True,  True,  True,\n",
       "        True,  True,  True,  True,  True,  True,  True,  True, False,\n",
       "        True,  True,  True,  True,  True,  True,  True,  True,  True,\n",
       "        True,  True,  True,  True,  True,  True,  True,  True,  True,\n",
       "        True,  True,  True,  True,  True,  True,  True,  True,  True,\n",
       "        True,  True,  True,  True,  True,  True,  True,  True,  True,\n",
       "        True, False,  True,  True,  True,  True,  True,  True,  True,\n",
       "        True,  True,  True,  True,  True,  True,  True,  True,  True,\n",
       "        True,  True,  True,  True,  True,  True,  True,  True, False,\n",
       "        True, False,  True,  True,  True,  True, False,  True,  True,\n",
       "        True,  True,  True,  True,  True,  True,  True,  True,  True,\n",
       "        True,  True,  True,  True,  True,  True,  True,  True, False,\n",
       "        True,  True,  True,  True,  True,  True,  True,  True,  True,\n",
       "        True,  True,  True,  True,  True,  True,  True,  True,  True,\n",
       "        True,  True,  True,  True,  True,  True,  True,  True,  True,\n",
       "        True,  True,  True,  True,  True,  True,  True,  True, False,\n",
       "        True,  True, False,  True,  True,  True, False,  True, False,\n",
       "        True,  True,  True,  True,  True,  True,  True,  True,  True,\n",
       "        True,  True,  True,  True,  True,  True,  True,  True,  True,\n",
       "        True,  True,  True,  True,  True,  True,  True,  True, False,\n",
       "        True,  True,  True,  True,  True,  True,  True, False,  True,\n",
       "       False,  True,  True,  True,  True,  True,  True,  True,  True,\n",
       "        True,  True,  True,  True,  True,  True,  True,  True,  True,\n",
       "        True, False,  True,  True,  True, False,  True,  True,  True,\n",
       "        True,  True,  True,  True,  True,  True, False,  True,  True,\n",
       "        True,  True,  True,  True,  True,  True,  True,  True,  True,\n",
       "        True,  True,  True,  True,  True,  True,  True,  True,  True,\n",
       "        True,  True,  True,  True,  True,  True,  True,  True,  True,\n",
       "        True,  True,  True,  True,  True,  True,  True,  True,  True,\n",
       "        True,  True,  True,  True,  True,  True,  True,  True,  True,\n",
       "        True,  True,  True,  True,  True,  True,  True,  True,  True,\n",
       "        True,  True,  True,  True,  True,  True,  True,  True,  True,\n",
       "        True,  True,  True,  True,  True,  True,  True,  True,  True,\n",
       "        True,  True,  True,  True,  True,  True,  True,  True,  True,\n",
       "        True,  True,  True,  True,  True, False,  True,  True,  True,\n",
       "       False,  True, False,  True,  True,  True,  True,  True,  True,\n",
       "        True,  True,  True,  True,  True,  True,  True,  True,  True,\n",
       "        True,  True,  True,  True,  True,  True,  True,  True,  True,\n",
       "        True,  True, False, False, False,  True,  True,  True,  True,\n",
       "        True,  True,  True,  True,  True,  True,  True,  True,  True,\n",
       "        True,  True,  True,  True,  True,  True,  True,  True,  True,\n",
       "        True,  True,  True,  True,  True, False,  True,  True,  True,\n",
       "        True,  True,  True,  True,  True,  True,  True,  True,  True,\n",
       "        True,  True,  True,  True,  True,  True,  True,  True,  True,\n",
       "        True,  True,  True,  True,  True,  True,  True,  True,  True,\n",
       "        True,  True,  True,  True,  True,  True,  True,  True,  True,\n",
       "        True,  True,  True,  True,  True,  True,  True,  True,  True,\n",
       "        True,  True,  True,  True,  True,  True,  True,  True,  True,\n",
       "        True,  True,  True,  True,  True,  True,  True,  True,  True,\n",
       "       False,  True,  True,  True,  True,  True,  True,  True,  True,\n",
       "        True,  True,  True,  True,  True,  True,  True,  True,  True,\n",
       "        True,  True,  True,  True,  True,  True,  True,  True,  True,\n",
       "        True,  True,  True,  True,  True,  True,  True,  True,  True,\n",
       "        True,  True,  True,  True,  True,  True,  True, False,  True,\n",
       "        True,  True,  True,  True,  True,  True,  True,  True,  True,\n",
       "        True,  True,  True, False,  True,  True,  True,  True,  True,\n",
       "        True,  True,  True,  True,  True,  True,  True,  True,  True,\n",
       "        True,  True,  True,  True,  True,  True, False,  True,  True,\n",
       "        True])"
      ]
     },
     "execution_count": 70,
     "metadata": {},
     "output_type": "execute_result"
    }
   ],
   "source": [
    "aykiri_tf"
   ]
  },
  {
   "cell_type": "code",
   "execution_count": 71,
   "id": "a7cad436-0236-4e05-8215-a62744302ba7",
   "metadata": {},
   "outputs": [],
   "source": [
    "yeni_tf = df[aykiri_tf]"
   ]
  },
  {
   "cell_type": "code",
   "execution_count": 82,
   "id": "a8dce8d6-8ab5-4901-adc6-0b34d7ad08f7",
   "metadata": {},
   "outputs": [
    {
     "data": {
      "text/plain": [
       "ShapiroResult(statistic=0.9217677116394043, pvalue=3.0443874417945826e-12)"
      ]
     },
     "execution_count": 82,
     "metadata": {},
     "output_type": "execute_result"
    }
   ],
   "source": [
    "stats.shapiro(yeni_tf[yeni_tf['Month'] == 'January']['Total'])"
   ]
  },
  {
   "cell_type": "code",
   "execution_count": 83,
   "id": "a31c10cf-d215-4172-bc28-efe0a28f1a16",
   "metadata": {},
   "outputs": [
    {
     "data": {
      "text/plain": [
       "ShapiroResult(statistic=0.9176542162895203, pvalue=2.154773755258521e-11)"
      ]
     },
     "execution_count": 83,
     "metadata": {},
     "output_type": "execute_result"
    }
   ],
   "source": [
    "stats.shapiro(yeni_tf[yeni_tf['Month'] == 'February']['Total'])"
   ]
  },
  {
   "cell_type": "code",
   "execution_count": 84,
   "id": "f91426e9-1b37-4986-84bf-923ec6f5b9e9",
   "metadata": {},
   "outputs": [
    {
     "data": {
      "text/plain": [
       "ShapiroResult(statistic=0.899590790271759, pvalue=6.084108911119657e-14)"
      ]
     },
     "execution_count": 84,
     "metadata": {},
     "output_type": "execute_result"
    }
   ],
   "source": [
    "stats.shapiro(yeni_tf[yeni_tf['Month'] == 'March']['Total'])"
   ]
  },
  {
   "cell_type": "code",
   "execution_count": 85,
   "id": "a42a13c6-3f47-4d6d-b144-30ff068477cf",
   "metadata": {},
   "outputs": [
    {
     "data": {
      "text/plain": [
       "MannwhitneyuResult(statistic=47768.5, pvalue=0.9798952739347228)"
      ]
     },
     "execution_count": 85,
     "metadata": {},
     "output_type": "execute_result"
    }
   ],
   "source": [
    "stats.mannwhitneyu(yeni_tf[yeni_tf['Month'] == 'January']['Total'], yeni_tf[yeni_tf['Month'] == 'February']['Total'])"
   ]
  },
  {
   "cell_type": "code",
   "execution_count": 86,
   "id": "a92bdf0a-3f87-4d07-9606-f6cf6f779351",
   "metadata": {},
   "outputs": [
    {
     "data": {
      "text/plain": [
       "MannwhitneyuResult(statistic=45795.5, pvalue=0.6732605474593878)"
      ]
     },
     "execution_count": 86,
     "metadata": {},
     "output_type": "execute_result"
    }
   ],
   "source": [
    "stats.mannwhitneyu(yeni_tf[yeni_tf['Month'] == 'March']['Total'], yeni_tf[yeni_tf['Month'] == 'February']['Total'])"
   ]
  },
  {
   "cell_type": "code",
   "execution_count": 87,
   "id": "89208edf-ce38-4824-979d-91c5f4712d89",
   "metadata": {},
   "outputs": [
    {
     "data": {
      "text/plain": [
       "MannwhitneyuResult(statistic=56444.0, pvalue=0.6362387497726875)"
      ]
     },
     "execution_count": 87,
     "metadata": {},
     "output_type": "execute_result"
    }
   ],
   "source": [
    "stats.mannwhitneyu(yeni_tf[yeni_tf['Month'] == 'January']['Total'], yeni_tf[yeni_tf['Month'] == 'March']['Total'])"
   ]
  },
  {
   "cell_type": "code",
   "execution_count": null,
   "id": "16346f6b-3b8b-40b9-b905-2d15eaab4204",
   "metadata": {},
   "outputs": [],
   "source": []
  }
 ],
 "metadata": {
  "kernelspec": {
   "display_name": "Python 3 (ipykernel)",
   "language": "python",
   "name": "python3"
  },
  "language_info": {
   "codemirror_mode": {
    "name": "ipython",
    "version": 3
   },
   "file_extension": ".py",
   "mimetype": "text/x-python",
   "name": "python",
   "nbconvert_exporter": "python",
   "pygments_lexer": "ipython3",
   "version": "3.10.9"
  }
 },
 "nbformat": 4,
 "nbformat_minor": 5
}
